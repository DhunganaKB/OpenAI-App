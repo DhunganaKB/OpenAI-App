{
 "cells": [
  {
   "cell_type": "code",
   "execution_count": 10,
   "metadata": {},
   "outputs": [],
   "source": [
    "from langchain_openai import ChatOpenAI\n",
    "from langchain import PromptTemplate\n",
    "import os"
   ]
  },
  {
   "cell_type": "code",
   "execution_count": 3,
   "metadata": {},
   "outputs": [],
   "source": [
    "OPENAI_API_KEY=\"sk-proj-N_pHa4_xxxxx\"\n",
    "os.environ[\"OPENAI_API_KEY\"] = OPENAI_API_KEY\n",
    "llm = ChatOpenAI(model=\"gpt-4o\")\n"
   ]
  },
  {
   "cell_type": "code",
   "execution_count": 8,
   "metadata": {},
   "outputs": [],
   "source": [
    "input_text=\"\"\" \n",
    "\n",
    "The 2024 United States presidential election, held on November 5, featured Republican candidate Donald Trump and Democratic candidate Kamala Harris. Trump, who previously served as the 45th president from 2017 to 2021, sought a non-consecutive second term, while Harris, the incumbent vice president, aimed to become the first female president.\n",
    "\n",
    "**Election Outcome:**\n",
    "\n",
    "Donald Trump secured the presidency with 312 electoral votes, surpassing the 270 required to win. Kamala Harris garnered 226 electoral votes. In the popular vote, Trump led by approximately 1.6%, marking a significant political comeback. \n",
    "\n",
    "**State-by-State Results:**\n",
    "\n",
    "Below is a summary of the election results by state, including the electoral votes and the percentage of the popular vote each candidate received:\n",
    "\n",
    "| State             | Electoral Votes | Trump (%) | Harris (%) |\n",
    "|-------------------|-----------------|-----------|------------|\n",
    "| Alabama           | 9               | 65%       | 34%        |\n",
    "| Alaska            | 3               | 55%       | 41%        |\n",
    "| Arizona           | 11              | 52%       | 47%        |\n",
    "| Arkansas          | 6               | 64%       | 34%        |\n",
    "| California        | 54              | 36%       | 61%        |\n",
    "| Colorado          | 10              | 44%       | 53%        |\n",
    "| Connecticut       | 7               | 46%       | 52%        |\n",
    "| Delaware          | 3               | 45%       | 53%        |\n",
    "| Florida           | 30              | 56%       | 43%        |\n",
    "| Georgia           | 16              | 51%       | 49%        |\n",
    "| Hawaii            | 4               | 37%       | 61%        |\n",
    "| Idaho             | 4               | 67%       | 30%        |\n",
    "| Illinois          | 19              | 44%       | 55%        |\n",
    "| Indiana           | 11              | 59%       | 40%        |\n",
    "| Iowa              | 6               | 56%       | 43%        |\n",
    "| Kansas            | 6               | 57%       | 41%        |\n",
    "| Kentucky          | 8               | 65%       | 34%        |\n",
    "| Louisiana         | 8               | 60%       | 38%        |\n",
    "| Maine             | 4               | 46%       | 52%        |\n",
    "| Maryland          | 10              | 35%       | 63%        |\n",
    "| Massachusetts     | 11              | 36%       | 61%        |\n",
    "| Michigan          | 15              | 50%       | 48%        |\n",
    "| Minnesota         | 10              | 51%       | 47%        |\n",
    "| Mississippi       | 6               | 61%       | 37%        |\n",
    "| Missouri          | 10              | 58%       | 40%        |\n",
    "| Montana           | 4               | 58%       | 38%        |\n",
    "| Nebraska          | 5               | 60%       | 39%        |\n",
    "| Nevada            | 6               | 51%       | 47%        |\n",
    "| New Hampshire     | 4               | 47%       | 52%        |\n",
    "| New Jersey        | 14              | 46%       | 52%        |\n",
    "| New Mexico        | 5               | 45%       | 53%        |\n",
    "| New York          | 28              | 44%       | 55%        |\n",
    "| North Carolina    | 16              | 51%       | 48%        |\n",
    "| North Dakota      | 3               | 67%       | 31%        |\n",
    "| Ohio              | 17              | 55%       | 44%        |\n",
    "| Oklahoma          | 7               | 66%       | 32%        |\n",
    "| Oregon            | 7               | 41%       | 55%        |\n",
    "| Pennsylvania      | 19              | 50%       | 49%        |\n",
    "| Rhode Island      | 4               | 42%       | 55%        |\n",
    "| South Carolina    | 9               | 58%       | 40%        |\n",
    "| South Dakota      | 3               | 63%       | 34%        |\n",
    "| Tennessee         | 11              | 64%       | 34%        |\n",
    "| Texas             | 40              | 56%       | 42%        |\n",
    "| Utah              | 6               | 59%       | 38%        |\n",
    "| Vermont           | 3               | 32%       | 64%        |\n",
    "| Virginia          | 13              | 47%       | 52%        |\n",
    "| Washington        | 12              | 39%       | 58%        |\n",
    "| West Virginia     | 4               | 70%       | 28%        |\n",
    "| Wisconsin         | 10              | 50%       | 49%        |\n",
    "| Wyoming           | 3               | 72%       | 26%        |\n",
    "\n",
    "*Note: Percentages are approximate and based on reported data.*\n",
    "\n",
    "Trump's victories in key battleground states such as Pennsylvania, Michigan, and Wisconsin were pivotal to his electoral success. Notably, he regained these states, often referred to as the \"Blue Wall,\" which had been Democratic strongholds in previous elections. \n",
    "\n",
    "This election marked the first time since Grover Cleveland in 1892 that a former president was elected to a non-consecutive second term. \n",
    "\"\"\""
   ]
  },
  {
   "cell_type": "code",
   "execution_count": 19,
   "metadata": {},
   "outputs": [],
   "source": [
    "template=\"\"\"\n",
    "you are a political analyst and you have been asked to analyze the 2024 United States presidential election based on the information provided below.\n",
    "\n",
    "{input_text}\n",
    "please generate a concise and clear answer to the question.\n",
    "\n",
    "question: {question}\n",
    "\n",
    "answer:\n",
    " \"\"\"\n",
    "\n",
    "prompt_template = PromptTemplate(input_variables=[\"input_text\", \"question\"], template=template)"
   ]
  },
  {
   "cell_type": "code",
   "execution_count": 25,
   "metadata": {},
   "outputs": [],
   "source": [
    "def response_function(question):\n",
    "    final_prompt = prompt_template.format(input_text=input_text, question=question)\n",
    "    response = llm.invoke(final_prompt)\n",
    "    return response.content"
   ]
  },
  {
   "cell_type": "code",
   "execution_count": 28,
   "metadata": {},
   "outputs": [
    {
     "name": "stdout",
     "output_type": "stream",
     "text": [
      "Donald Trump won the 2024 United States presidential election.\n"
     ]
    }
   ],
   "source": [
    "answer=response_function(\"who won the election?\")\n",
    "print(answer)"
   ]
  },
  {
   "cell_type": "code",
   "execution_count": null,
   "metadata": {},
   "outputs": [],
   "source": []
  },
  {
   "cell_type": "code",
   "execution_count": null,
   "metadata": {},
   "outputs": [],
   "source": []
  }
 ],
 "metadata": {
  "kernelspec": {
   "display_name": "langchain",
   "language": "python",
   "name": "python3"
  },
  "language_info": {
   "codemirror_mode": {
    "name": "ipython",
    "version": 3
   },
   "file_extension": ".py",
   "mimetype": "text/x-python",
   "name": "python",
   "nbconvert_exporter": "python",
   "pygments_lexer": "ipython3",
   "version": "3.12.2"
  }
 },
 "nbformat": 4,
 "nbformat_minor": 2
}
